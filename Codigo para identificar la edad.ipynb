{
 "cells": [
  {
   "cell_type": "markdown",
   "id": "8cda29d5",
   "metadata": {},
   "source": [
    "# Codigo para identificar edad\n",
    "\n",
    "## Saber si el usuario  es adulto o menor de edad para conducir\n"
   ]
  },
  {
   "cell_type": "code",
   "execution_count": 1,
   "id": "0e200937",
   "metadata": {},
   "outputs": [
    {
     "name": "stdout",
     "output_type": "stream",
     "text": [
      "Introduzca su edad:  18\n",
      "You can drive a car\n"
     ]
    }
   ],
   "source": [
    "age= int(input(\"Introduzca su edad:  \"))\n",
    "\n",
    "if age>= 18:\n",
    "    print (\"You can drive a car\")\n",
    "elif age<18:\n",
    "    print (\"You can't drive a car\")\n",
    "    "
   ]
  },
  {
   "cell_type": "code",
   "execution_count": null,
   "id": "50eeda02",
   "metadata": {},
   "outputs": [],
   "source": []
  }
 ],
 "metadata": {
  "kernelspec": {
   "display_name": "Python 3",
   "language": "python",
   "name": "python3"
  },
  "language_info": {
   "codemirror_mode": {
    "name": "ipython",
    "version": 3
   },
   "file_extension": ".py",
   "mimetype": "text/x-python",
   "name": "python",
   "nbconvert_exporter": "python",
   "pygments_lexer": "ipython3",
   "version": "3.8.8"
  }
 },
 "nbformat": 4,
 "nbformat_minor": 5
}
